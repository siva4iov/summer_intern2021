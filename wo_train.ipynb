{
 "cells": [
  {
   "cell_type": "code",
   "execution_count": 11,
   "id": "fa629bfb",
   "metadata": {},
   "outputs": [],
   "source": [
    "import keras\n",
    "import pandas as pd\n",
    "import numpy as np\n",
    "import matplotlib.pyplot as plt\n",
    "from tensorflow import keras\n",
    "from tensorflow.keras.layers import Dense, Flatten, Conv2D, MaxPooling2D\n",
    "from keras.utils import np_utils\n",
    "import cv2\n",
    "from sklearn.model_selection import train_test_split\n",
    "from keras.models import load_model"
   ]
  },
  {
   "cell_type": "code",
   "execution_count": 12,
   "id": "fb86a53f",
   "metadata": {},
   "outputs": [
    {
     "data": {
      "text/html": [
       "<div>\n",
       "<style scoped>\n",
       "    .dataframe tbody tr th:only-of-type {\n",
       "        vertical-align: middle;\n",
       "    }\n",
       "\n",
       "    .dataframe tbody tr th {\n",
       "        vertical-align: top;\n",
       "    }\n",
       "\n",
       "    .dataframe thead th {\n",
       "        text-align: right;\n",
       "    }\n",
       "</style>\n",
       "<table border=\"1\" class=\"dataframe\">\n",
       "  <thead>\n",
       "    <tr style=\"text-align: right;\">\n",
       "      <th></th>\n",
       "      <th>label</th>\n",
       "      <th>image</th>\n",
       "    </tr>\n",
       "  </thead>\n",
       "  <tbody>\n",
       "    <tr>\n",
       "      <th>0</th>\n",
       "      <td>0</td>\n",
       "      <td>D:\\prg\\dataset\\result\\0\\1-frame.png</td>\n",
       "    </tr>\n",
       "    <tr>\n",
       "      <th>1</th>\n",
       "      <td>0</td>\n",
       "      <td>D:\\prg\\dataset\\result\\0\\10-frame.png</td>\n",
       "    </tr>\n",
       "    <tr>\n",
       "      <th>2</th>\n",
       "      <td>0</td>\n",
       "      <td>D:\\prg\\dataset\\result\\0\\100-frame.png</td>\n",
       "    </tr>\n",
       "    <tr>\n",
       "      <th>3</th>\n",
       "      <td>0</td>\n",
       "      <td>D:\\prg\\dataset\\result\\0\\101-frame.png</td>\n",
       "    </tr>\n",
       "    <tr>\n",
       "      <th>4</th>\n",
       "      <td>0</td>\n",
       "      <td>D:\\prg\\dataset\\result\\0\\102-frame.png</td>\n",
       "    </tr>\n",
       "    <tr>\n",
       "      <th>...</th>\n",
       "      <td>...</td>\n",
       "      <td>...</td>\n",
       "    </tr>\n",
       "    <tr>\n",
       "      <th>9377</th>\n",
       "      <td>9</td>\n",
       "      <td>D:\\prg\\dataset\\result\\9\\7004-frame.png</td>\n",
       "    </tr>\n",
       "    <tr>\n",
       "      <th>9378</th>\n",
       "      <td>9</td>\n",
       "      <td>D:\\prg\\dataset\\result\\9\\7005-frame.png</td>\n",
       "    </tr>\n",
       "    <tr>\n",
       "      <th>9379</th>\n",
       "      <td>9</td>\n",
       "      <td>D:\\prg\\dataset\\result\\9\\7006-frame.png</td>\n",
       "    </tr>\n",
       "    <tr>\n",
       "      <th>9380</th>\n",
       "      <td>9</td>\n",
       "      <td>D:\\prg\\dataset\\result\\9\\7007-frame.png</td>\n",
       "    </tr>\n",
       "    <tr>\n",
       "      <th>9381</th>\n",
       "      <td>9</td>\n",
       "      <td>D:\\prg\\dataset\\result\\9\\7008-frame.png</td>\n",
       "    </tr>\n",
       "  </tbody>\n",
       "</table>\n",
       "<p>9382 rows × 2 columns</p>\n",
       "</div>"
      ],
      "text/plain": [
       "      label                                   image\n",
       "0         0     D:\\prg\\dataset\\result\\0\\1-frame.png\n",
       "1         0    D:\\prg\\dataset\\result\\0\\10-frame.png\n",
       "2         0   D:\\prg\\dataset\\result\\0\\100-frame.png\n",
       "3         0   D:\\prg\\dataset\\result\\0\\101-frame.png\n",
       "4         0   D:\\prg\\dataset\\result\\0\\102-frame.png\n",
       "...     ...                                     ...\n",
       "9377      9  D:\\prg\\dataset\\result\\9\\7004-frame.png\n",
       "9378      9  D:\\prg\\dataset\\result\\9\\7005-frame.png\n",
       "9379      9  D:\\prg\\dataset\\result\\9\\7006-frame.png\n",
       "9380      9  D:\\prg\\dataset\\result\\9\\7007-frame.png\n",
       "9381      9  D:\\prg\\dataset\\result\\9\\7008-frame.png\n",
       "\n",
       "[9382 rows x 2 columns]"
      ]
     },
     "execution_count": 12,
     "metadata": {},
     "output_type": "execute_result"
    }
   ],
   "source": [
    "data = pd.read_csv('dataset.csv')\n",
    "data"
   ]
  },
  {
   "cell_type": "code",
   "execution_count": 3,
   "id": "db31944a",
   "metadata": {},
   "outputs": [],
   "source": [
    "x,y = np.array([np.array(cv2.imread(path, cv2.IMREAD_GRAYSCALE),dtype=bool)[::-1] for path in data.values[:,1]]), data.values[:,0]"
   ]
  },
  {
   "cell_type": "code",
   "execution_count": 4,
   "id": "0caffd58",
   "metadata": {},
   "outputs": [
    {
     "data": {
      "text/plain": [
       "(9382, 500, 500)"
      ]
     },
     "execution_count": 4,
     "metadata": {},
     "output_type": "execute_result"
    }
   ],
   "source": [
    "x.shape"
   ]
  },
  {
   "cell_type": "code",
   "execution_count": 4,
   "id": "0e8d16e1",
   "metadata": {},
   "outputs": [],
   "source": [
    "y = np_utils.to_categorical(y, 13)"
   ]
  },
  {
   "cell_type": "code",
   "execution_count": 5,
   "id": "76a9dd7a",
   "metadata": {},
   "outputs": [],
   "source": [
    "x_train, x_test, y_train, y_test = train_test_split(x, y, test_size=0.98)"
   ]
  },
  {
   "cell_type": "code",
   "execution_count": 6,
   "id": "cb795cdf",
   "metadata": {},
   "outputs": [],
   "source": [
    "x_train, x_val, y_train, y_val = train_test_split(x_train, y_train, test_size=0.2)"
   ]
  },
  {
   "cell_type": "code",
   "execution_count": 7,
   "id": "8fd751c4",
   "metadata": {},
   "outputs": [],
   "source": [
    "x_train = np.expand_dims(x_train, axis=3)\n",
    "x_test = np.expand_dims(x_test, axis=3)\n",
    "x_val = np.expand_dims(x_val, axis=3)"
   ]
  },
  {
   "cell_type": "code",
   "execution_count": 13,
   "id": "b139a22b",
   "metadata": {},
   "outputs": [],
   "source": [
    "x_test, y_test = x, y"
   ]
  },
  {
   "cell_type": "code",
   "execution_count": 14,
   "id": "a9ddd86d",
   "metadata": {},
   "outputs": [],
   "source": [
    "x_test = np.expand_dims(x_test, axis=3)"
   ]
  },
  {
   "cell_type": "code",
   "execution_count": 15,
   "id": "e34d7655",
   "metadata": {},
   "outputs": [],
   "source": [
    "model = load_model('my_model.h5')"
   ]
  },
  {
   "cell_type": "code",
   "execution_count": 9,
   "id": "cf1a7636",
   "metadata": {},
   "outputs": [
    {
     "name": "stdout",
     "output_type": "stream",
     "text": [
      "Epoch 1/5\n",
      "5/5 [==============================] - 25s 1s/step - loss: 3.6604 - accuracy: 0.2685 - val_loss: 2.4785 - val_accuracy: 0.2895\n",
      "Epoch 2/5\n",
      "5/5 [==============================] - 12s 3s/step - loss: 1.6683 - accuracy: 0.5034 - val_loss: 1.8927 - val_accuracy: 0.2895\n",
      "Epoch 3/5\n",
      "5/5 [==============================] - 6s 1s/step - loss: 1.0296 - accuracy: 0.7718 - val_loss: 1.2173 - val_accuracy: 0.6579\n",
      "Epoch 4/5\n",
      "5/5 [==============================] - 6s 1s/step - loss: 0.4401 - accuracy: 0.8926 - val_loss: 1.0841 - val_accuracy: 0.6579\n",
      "Epoch 5/5\n",
      "5/5 [==============================] - 13s 3s/step - loss: 0.1407 - accuracy: 0.9664 - val_loss: 0.8885 - val_accuracy: 0.8158\n"
     ]
    },
    {
     "data": {
      "text/plain": [
       "<keras.callbacks.History at 0x24d7d56b400>"
      ]
     },
     "execution_count": 9,
     "metadata": {},
     "output_type": "execute_result"
    }
   ],
   "source": [
    "model.fit(x_train, y_train, batch_size=32, verbose=True, epochs=5, validation_data = (x_val, y_val))"
   ]
  },
  {
   "cell_type": "code",
   "execution_count": 16,
   "id": "cc07119f",
   "metadata": {},
   "outputs": [
    {
     "name": "stdout",
     "output_type": "stream",
     "text": [
      "294/294 [==============================] - 226s 768ms/step - loss: 5.7851 - accuracy: 0.1554\n"
     ]
    },
    {
     "data": {
      "text/plain": [
       "[5.785074234008789, 0.1554039716720581]"
      ]
     },
     "execution_count": 16,
     "metadata": {},
     "output_type": "execute_result"
    }
   ],
   "source": [
    "model.evaluate(x_test, y_test)"
   ]
  },
  {
   "cell_type": "code",
   "execution_count": null,
   "id": "3f5476dc",
   "metadata": {},
   "outputs": [],
   "source": []
  }
 ],
 "metadata": {
  "kernelspec": {
   "display_name": "Python 3 (ipykernel)",
   "language": "python",
   "name": "python3"
  },
  "language_info": {
   "codemirror_mode": {
    "name": "ipython",
    "version": 3
   },
   "file_extension": ".py",
   "mimetype": "text/x-python",
   "name": "python",
   "nbconvert_exporter": "python",
   "pygments_lexer": "ipython3",
   "version": "3.9.6"
  }
 },
 "nbformat": 4,
 "nbformat_minor": 5
}
